{
 "cells": [
  {
   "cell_type": "markdown",
   "metadata": {},
   "source": [
    "### Generate Random Data Set "
   ]
  },
  {
   "cell_type": "code",
   "execution_count": 16,
   "metadata": {},
   "outputs": [],
   "source": [
    "from string import ascii_letters\n",
    "import numpy as np\n",
    "import pandas as pd\n",
    "import seaborn as sns\n",
    "import matplotlib.pyplot as plt\n",
    "from sklearn.preprocessing import StandardScaler\n",
    "\n",
    "import warnings\n",
    "warnings.filterwarnings('ignore')\n",
    "%matplotlib inline"
   ]
  },
  {
   "cell_type": "code",
   "execution_count": 4,
   "metadata": {},
   "outputs": [],
   "source": [
    "# Generate a large random dataset\n",
    "rs = np.random.RandomState(33)\n",
    "\n",
    "d = pd.DataFrame(data=rs.normal(size=(100, 26)), columns=list(ascii_letters[26:]))"
   ]
  },
  {
   "cell_type": "code",
   "execution_count": 5,
   "metadata": {},
   "outputs": [
    {
     "data": {
      "text/html": [
       "<div>\n",
       "<style>\n",
       "    .dataframe thead tr:only-child th {\n",
       "        text-align: right;\n",
       "    }\n",
       "\n",
       "    .dataframe thead th {\n",
       "        text-align: left;\n",
       "    }\n",
       "\n",
       "    .dataframe tbody tr th {\n",
       "        vertical-align: top;\n",
       "    }\n",
       "</style>\n",
       "<table border=\"1\" class=\"dataframe\">\n",
       "  <thead>\n",
       "    <tr style=\"text-align: right;\">\n",
       "      <th></th>\n",
       "      <th>A</th>\n",
       "      <th>B</th>\n",
       "      <th>C</th>\n",
       "      <th>D</th>\n",
       "      <th>E</th>\n",
       "      <th>F</th>\n",
       "      <th>G</th>\n",
       "      <th>H</th>\n",
       "      <th>I</th>\n",
       "      <th>J</th>\n",
       "      <th>...</th>\n",
       "      <th>Q</th>\n",
       "      <th>R</th>\n",
       "      <th>S</th>\n",
       "      <th>T</th>\n",
       "      <th>U</th>\n",
       "      <th>V</th>\n",
       "      <th>W</th>\n",
       "      <th>X</th>\n",
       "      <th>Y</th>\n",
       "      <th>Z</th>\n",
       "    </tr>\n",
       "  </thead>\n",
       "  <tbody>\n",
       "    <tr>\n",
       "      <th>0</th>\n",
       "      <td>-0.318854</td>\n",
       "      <td>-1.602981</td>\n",
       "      <td>-1.535218</td>\n",
       "      <td>-0.570401</td>\n",
       "      <td>-0.216728</td>\n",
       "      <td>0.254874</td>\n",
       "      <td>-0.149450</td>\n",
       "      <td>2.010783</td>\n",
       "      <td>-0.096784</td>\n",
       "      <td>0.422202</td>\n",
       "      <td>...</td>\n",
       "      <td>-0.951219</td>\n",
       "      <td>0.832973</td>\n",
       "      <td>-1.000208</td>\n",
       "      <td>0.343463</td>\n",
       "      <td>1.546030</td>\n",
       "      <td>0.690081</td>\n",
       "      <td>-2.045853</td>\n",
       "      <td>0.334467</td>\n",
       "      <td>-0.641459</td>\n",
       "      <td>-0.222497</td>\n",
       "    </tr>\n",
       "    <tr>\n",
       "      <th>1</th>\n",
       "      <td>-1.230374</td>\n",
       "      <td>0.205848</td>\n",
       "      <td>0.821371</td>\n",
       "      <td>-0.493780</td>\n",
       "      <td>-1.408794</td>\n",
       "      <td>-1.216324</td>\n",
       "      <td>1.734299</td>\n",
       "      <td>-0.206790</td>\n",
       "      <td>-0.733189</td>\n",
       "      <td>0.774163</td>\n",
       "      <td>...</td>\n",
       "      <td>-0.148826</td>\n",
       "      <td>-0.606270</td>\n",
       "      <td>-1.185801</td>\n",
       "      <td>0.455504</td>\n",
       "      <td>-0.837645</td>\n",
       "      <td>-0.146961</td>\n",
       "      <td>-0.682350</td>\n",
       "      <td>1.487670</td>\n",
       "      <td>-1.094711</td>\n",
       "      <td>-1.654707</td>\n",
       "    </tr>\n",
       "    <tr>\n",
       "      <th>2</th>\n",
       "      <td>-0.023842</td>\n",
       "      <td>-0.363738</td>\n",
       "      <td>-0.482943</td>\n",
       "      <td>0.739577</td>\n",
       "      <td>0.611252</td>\n",
       "      <td>0.491802</td>\n",
       "      <td>1.792924</td>\n",
       "      <td>-0.683737</td>\n",
       "      <td>1.054113</td>\n",
       "      <td>-0.615562</td>\n",
       "      <td>...</td>\n",
       "      <td>-1.120717</td>\n",
       "      <td>0.991136</td>\n",
       "      <td>1.630796</td>\n",
       "      <td>-1.900090</td>\n",
       "      <td>0.062316</td>\n",
       "      <td>0.479998</td>\n",
       "      <td>0.379609</td>\n",
       "      <td>-1.512245</td>\n",
       "      <td>0.289020</td>\n",
       "      <td>0.095524</td>\n",
       "    </tr>\n",
       "    <tr>\n",
       "      <th>3</th>\n",
       "      <td>-0.292821</td>\n",
       "      <td>0.856582</td>\n",
       "      <td>0.933473</td>\n",
       "      <td>-0.421045</td>\n",
       "      <td>1.590430</td>\n",
       "      <td>-1.063801</td>\n",
       "      <td>2.104884</td>\n",
       "      <td>-1.090494</td>\n",
       "      <td>1.484521</td>\n",
       "      <td>-1.089229</td>\n",
       "      <td>...</td>\n",
       "      <td>0.230258</td>\n",
       "      <td>0.195235</td>\n",
       "      <td>0.535839</td>\n",
       "      <td>0.684299</td>\n",
       "      <td>2.821279</td>\n",
       "      <td>0.916504</td>\n",
       "      <td>0.150722</td>\n",
       "      <td>0.017747</td>\n",
       "      <td>0.006885</td>\n",
       "      <td>0.329035</td>\n",
       "    </tr>\n",
       "    <tr>\n",
       "      <th>4</th>\n",
       "      <td>-0.587376</td>\n",
       "      <td>1.751572</td>\n",
       "      <td>0.308274</td>\n",
       "      <td>-0.894283</td>\n",
       "      <td>-0.769156</td>\n",
       "      <td>0.869197</td>\n",
       "      <td>0.371381</td>\n",
       "      <td>-0.628362</td>\n",
       "      <td>-0.922477</td>\n",
       "      <td>-0.903391</td>\n",
       "      <td>...</td>\n",
       "      <td>1.519031</td>\n",
       "      <td>0.749896</td>\n",
       "      <td>-2.269087</td>\n",
       "      <td>-0.760599</td>\n",
       "      <td>-0.955502</td>\n",
       "      <td>0.923951</td>\n",
       "      <td>0.315157</td>\n",
       "      <td>1.340910</td>\n",
       "      <td>0.678992</td>\n",
       "      <td>0.594258</td>\n",
       "    </tr>\n",
       "    <tr>\n",
       "      <th>5</th>\n",
       "      <td>-1.118902</td>\n",
       "      <td>-0.546686</td>\n",
       "      <td>-0.541049</td>\n",
       "      <td>-1.466870</td>\n",
       "      <td>1.323851</td>\n",
       "      <td>0.344447</td>\n",
       "      <td>-1.934179</td>\n",
       "      <td>0.905662</td>\n",
       "      <td>-0.941123</td>\n",
       "      <td>0.707246</td>\n",
       "      <td>...</td>\n",
       "      <td>0.397142</td>\n",
       "      <td>-0.946225</td>\n",
       "      <td>-0.352427</td>\n",
       "      <td>0.274527</td>\n",
       "      <td>-1.386049</td>\n",
       "      <td>-1.775175</td>\n",
       "      <td>1.683865</td>\n",
       "      <td>-1.934213</td>\n",
       "      <td>-0.978937</td>\n",
       "      <td>0.386391</td>\n",
       "    </tr>\n",
       "    <tr>\n",
       "      <th>6</th>\n",
       "      <td>0.346235</td>\n",
       "      <td>-0.449622</td>\n",
       "      <td>-1.355818</td>\n",
       "      <td>1.192042</td>\n",
       "      <td>0.578353</td>\n",
       "      <td>-0.103730</td>\n",
       "      <td>-0.161044</td>\n",
       "      <td>0.894541</td>\n",
       "      <td>1.290747</td>\n",
       "      <td>0.108126</td>\n",
       "      <td>...</td>\n",
       "      <td>0.594309</td>\n",
       "      <td>-0.166302</td>\n",
       "      <td>1.272612</td>\n",
       "      <td>2.076016</td>\n",
       "      <td>0.052485</td>\n",
       "      <td>0.740696</td>\n",
       "      <td>0.606607</td>\n",
       "      <td>1.219077</td>\n",
       "      <td>0.000855</td>\n",
       "      <td>-0.146146</td>\n",
       "    </tr>\n",
       "    <tr>\n",
       "      <th>7</th>\n",
       "      <td>-0.261976</td>\n",
       "      <td>0.108848</td>\n",
       "      <td>1.017882</td>\n",
       "      <td>-1.144546</td>\n",
       "      <td>0.781887</td>\n",
       "      <td>-0.173980</td>\n",
       "      <td>-0.341525</td>\n",
       "      <td>-1.879558</td>\n",
       "      <td>-0.993942</td>\n",
       "      <td>1.021854</td>\n",
       "      <td>...</td>\n",
       "      <td>0.439146</td>\n",
       "      <td>0.998467</td>\n",
       "      <td>0.437747</td>\n",
       "      <td>-0.027217</td>\n",
       "      <td>-1.035272</td>\n",
       "      <td>0.486417</td>\n",
       "      <td>0.473810</td>\n",
       "      <td>-0.299381</td>\n",
       "      <td>-0.190314</td>\n",
       "      <td>-0.630710</td>\n",
       "    </tr>\n",
       "    <tr>\n",
       "      <th>8</th>\n",
       "      <td>0.196723</td>\n",
       "      <td>0.041640</td>\n",
       "      <td>-0.224855</td>\n",
       "      <td>0.432444</td>\n",
       "      <td>0.608030</td>\n",
       "      <td>0.358296</td>\n",
       "      <td>0.056806</td>\n",
       "      <td>-0.236592</td>\n",
       "      <td>0.877240</td>\n",
       "      <td>0.057214</td>\n",
       "      <td>...</td>\n",
       "      <td>0.422761</td>\n",
       "      <td>0.039107</td>\n",
       "      <td>0.164277</td>\n",
       "      <td>0.745735</td>\n",
       "      <td>0.106707</td>\n",
       "      <td>-1.300606</td>\n",
       "      <td>-0.818656</td>\n",
       "      <td>1.599970</td>\n",
       "      <td>-0.603120</td>\n",
       "      <td>-0.096894</td>\n",
       "    </tr>\n",
       "    <tr>\n",
       "      <th>9</th>\n",
       "      <td>-0.256457</td>\n",
       "      <td>-0.264391</td>\n",
       "      <td>0.021789</td>\n",
       "      <td>1.118757</td>\n",
       "      <td>0.086716</td>\n",
       "      <td>-0.394722</td>\n",
       "      <td>0.121662</td>\n",
       "      <td>0.610584</td>\n",
       "      <td>-1.591931</td>\n",
       "      <td>1.693947</td>\n",
       "      <td>...</td>\n",
       "      <td>-0.283728</td>\n",
       "      <td>2.209934</td>\n",
       "      <td>3.736254</td>\n",
       "      <td>0.852186</td>\n",
       "      <td>0.495830</td>\n",
       "      <td>0.380732</td>\n",
       "      <td>0.360668</td>\n",
       "      <td>0.208671</td>\n",
       "      <td>1.323454</td>\n",
       "      <td>-0.382265</td>\n",
       "    </tr>\n",
       "  </tbody>\n",
       "</table>\n",
       "<p>10 rows × 26 columns</p>\n",
       "</div>"
      ],
      "text/plain": [
       "          A         B         C         D         E         F         G  \\\n",
       "0 -0.318854 -1.602981 -1.535218 -0.570401 -0.216728  0.254874 -0.149450   \n",
       "1 -1.230374  0.205848  0.821371 -0.493780 -1.408794 -1.216324  1.734299   \n",
       "2 -0.023842 -0.363738 -0.482943  0.739577  0.611252  0.491802  1.792924   \n",
       "3 -0.292821  0.856582  0.933473 -0.421045  1.590430 -1.063801  2.104884   \n",
       "4 -0.587376  1.751572  0.308274 -0.894283 -0.769156  0.869197  0.371381   \n",
       "5 -1.118902 -0.546686 -0.541049 -1.466870  1.323851  0.344447 -1.934179   \n",
       "6  0.346235 -0.449622 -1.355818  1.192042  0.578353 -0.103730 -0.161044   \n",
       "7 -0.261976  0.108848  1.017882 -1.144546  0.781887 -0.173980 -0.341525   \n",
       "8  0.196723  0.041640 -0.224855  0.432444  0.608030  0.358296  0.056806   \n",
       "9 -0.256457 -0.264391  0.021789  1.118757  0.086716 -0.394722  0.121662   \n",
       "\n",
       "          H         I         J    ...            Q         R         S  \\\n",
       "0  2.010783 -0.096784  0.422202    ...    -0.951219  0.832973 -1.000208   \n",
       "1 -0.206790 -0.733189  0.774163    ...    -0.148826 -0.606270 -1.185801   \n",
       "2 -0.683737  1.054113 -0.615562    ...    -1.120717  0.991136  1.630796   \n",
       "3 -1.090494  1.484521 -1.089229    ...     0.230258  0.195235  0.535839   \n",
       "4 -0.628362 -0.922477 -0.903391    ...     1.519031  0.749896 -2.269087   \n",
       "5  0.905662 -0.941123  0.707246    ...     0.397142 -0.946225 -0.352427   \n",
       "6  0.894541  1.290747  0.108126    ...     0.594309 -0.166302  1.272612   \n",
       "7 -1.879558 -0.993942  1.021854    ...     0.439146  0.998467  0.437747   \n",
       "8 -0.236592  0.877240  0.057214    ...     0.422761  0.039107  0.164277   \n",
       "9  0.610584 -1.591931  1.693947    ...    -0.283728  2.209934  3.736254   \n",
       "\n",
       "          T         U         V         W         X         Y         Z  \n",
       "0  0.343463  1.546030  0.690081 -2.045853  0.334467 -0.641459 -0.222497  \n",
       "1  0.455504 -0.837645 -0.146961 -0.682350  1.487670 -1.094711 -1.654707  \n",
       "2 -1.900090  0.062316  0.479998  0.379609 -1.512245  0.289020  0.095524  \n",
       "3  0.684299  2.821279  0.916504  0.150722  0.017747  0.006885  0.329035  \n",
       "4 -0.760599 -0.955502  0.923951  0.315157  1.340910  0.678992  0.594258  \n",
       "5  0.274527 -1.386049 -1.775175  1.683865 -1.934213 -0.978937  0.386391  \n",
       "6  2.076016  0.052485  0.740696  0.606607  1.219077  0.000855 -0.146146  \n",
       "7 -0.027217 -1.035272  0.486417  0.473810 -0.299381 -0.190314 -0.630710  \n",
       "8  0.745735  0.106707 -1.300606 -0.818656  1.599970 -0.603120 -0.096894  \n",
       "9  0.852186  0.495830  0.380732  0.360668  0.208671  1.323454 -0.382265  \n",
       "\n",
       "[10 rows x 26 columns]"
      ]
     },
     "execution_count": 5,
     "metadata": {},
     "output_type": "execute_result"
    }
   ],
   "source": [
    "d.head(10)"
   ]
  },
  {
   "cell_type": "code",
   "execution_count": 7,
   "metadata": {},
   "outputs": [
    {
     "data": {
      "text/plain": [
       "'ABCDEFGHIJKLMNOPQRSTUVWXYZ'"
      ]
     },
     "execution_count": 7,
     "metadata": {},
     "output_type": "execute_result"
    }
   ],
   "source": [
    "ascii_letters[26:]"
   ]
  },
  {
   "cell_type": "code",
   "execution_count": 13,
   "metadata": {},
   "outputs": [
    {
     "data": {
      "text/html": [
       "<div>\n",
       "<style>\n",
       "    .dataframe thead tr:only-child th {\n",
       "        text-align: right;\n",
       "    }\n",
       "\n",
       "    .dataframe thead th {\n",
       "        text-align: left;\n",
       "    }\n",
       "\n",
       "    .dataframe tbody tr th {\n",
       "        vertical-align: top;\n",
       "    }\n",
       "</style>\n",
       "<table border=\"1\" class=\"dataframe\">\n",
       "  <thead>\n",
       "    <tr style=\"text-align: right;\">\n",
       "      <th></th>\n",
       "      <th>0</th>\n",
       "      <th>1</th>\n",
       "      <th>2</th>\n",
       "      <th>3</th>\n",
       "      <th>4</th>\n",
       "      <th>5</th>\n",
       "      <th>6</th>\n",
       "      <th>7</th>\n",
       "      <th>8</th>\n",
       "      <th>9</th>\n",
       "    </tr>\n",
       "  </thead>\n",
       "  <tbody>\n",
       "    <tr>\n",
       "      <th>0</th>\n",
       "      <td>0.010360</td>\n",
       "      <td>-0.445855</td>\n",
       "      <td>-0.039054</td>\n",
       "      <td>-0.011894</td>\n",
       "      <td>-0.961708</td>\n",
       "      <td>-0.269560</td>\n",
       "      <td>-0.359572</td>\n",
       "      <td>-0.366955</td>\n",
       "      <td>-1.093077</td>\n",
       "      <td>-0.255624</td>\n",
       "    </tr>\n",
       "    <tr>\n",
       "      <th>1</th>\n",
       "      <td>0.030767</td>\n",
       "      <td>1.739309</td>\n",
       "      <td>-1.367075</td>\n",
       "      <td>-1.445203</td>\n",
       "      <td>-0.545493</td>\n",
       "      <td>0.480607</td>\n",
       "      <td>-1.593410</td>\n",
       "      <td>0.946443</td>\n",
       "      <td>1.430818</td>\n",
       "      <td>0.312476</td>\n",
       "    </tr>\n",
       "    <tr>\n",
       "      <th>2</th>\n",
       "      <td>0.234073</td>\n",
       "      <td>1.229533</td>\n",
       "      <td>-0.050871</td>\n",
       "      <td>-0.564845</td>\n",
       "      <td>-0.309647</td>\n",
       "      <td>-0.661617</td>\n",
       "      <td>-0.261005</td>\n",
       "      <td>-0.081068</td>\n",
       "      <td>0.428189</td>\n",
       "      <td>-1.877531</td>\n",
       "    </tr>\n",
       "    <tr>\n",
       "      <th>3</th>\n",
       "      <td>-0.264789</td>\n",
       "      <td>1.352524</td>\n",
       "      <td>0.205276</td>\n",
       "      <td>-0.385189</td>\n",
       "      <td>-1.420020</td>\n",
       "      <td>1.804246</td>\n",
       "      <td>0.888054</td>\n",
       "      <td>1.063360</td>\n",
       "      <td>-0.260807</td>\n",
       "      <td>0.048861</td>\n",
       "    </tr>\n",
       "    <tr>\n",
       "      <th>4</th>\n",
       "      <td>0.528612</td>\n",
       "      <td>-0.726697</td>\n",
       "      <td>-0.222031</td>\n",
       "      <td>0.558192</td>\n",
       "      <td>0.124300</td>\n",
       "      <td>0.457474</td>\n",
       "      <td>0.547262</td>\n",
       "      <td>-0.648232</td>\n",
       "      <td>-1.349972</td>\n",
       "      <td>-1.115342</td>\n",
       "    </tr>\n",
       "    <tr>\n",
       "      <th>5</th>\n",
       "      <td>1.317066</td>\n",
       "      <td>0.914694</td>\n",
       "      <td>-1.548035</td>\n",
       "      <td>-1.146492</td>\n",
       "      <td>-1.995593</td>\n",
       "      <td>-0.057970</td>\n",
       "      <td>-1.246076</td>\n",
       "      <td>-0.409632</td>\n",
       "      <td>0.756516</td>\n",
       "      <td>-0.890124</td>\n",
       "    </tr>\n",
       "    <tr>\n",
       "      <th>6</th>\n",
       "      <td>-0.549678</td>\n",
       "      <td>0.272697</td>\n",
       "      <td>-0.082740</td>\n",
       "      <td>0.038147</td>\n",
       "      <td>1.439210</td>\n",
       "      <td>1.162015</td>\n",
       "      <td>-0.272435</td>\n",
       "      <td>0.378418</td>\n",
       "      <td>0.597367</td>\n",
       "      <td>0.800917</td>\n",
       "    </tr>\n",
       "    <tr>\n",
       "      <th>7</th>\n",
       "      <td>1.337115</td>\n",
       "      <td>2.182263</td>\n",
       "      <td>-0.145846</td>\n",
       "      <td>1.460897</td>\n",
       "      <td>1.762803</td>\n",
       "      <td>0.888545</td>\n",
       "      <td>1.269800</td>\n",
       "      <td>-1.392150</td>\n",
       "      <td>-0.235298</td>\n",
       "      <td>-0.493574</td>\n",
       "    </tr>\n",
       "    <tr>\n",
       "      <th>8</th>\n",
       "      <td>0.049958</td>\n",
       "      <td>0.083685</td>\n",
       "      <td>0.612148</td>\n",
       "      <td>-1.037812</td>\n",
       "      <td>0.410595</td>\n",
       "      <td>0.908015</td>\n",
       "      <td>-1.774176</td>\n",
       "      <td>1.174409</td>\n",
       "      <td>2.189594</td>\n",
       "      <td>-1.362229</td>\n",
       "    </tr>\n",
       "    <tr>\n",
       "      <th>9</th>\n",
       "      <td>-0.529073</td>\n",
       "      <td>-0.617786</td>\n",
       "      <td>0.455803</td>\n",
       "      <td>0.409826</td>\n",
       "      <td>-0.347271</td>\n",
       "      <td>-2.296287</td>\n",
       "      <td>0.235350</td>\n",
       "      <td>-0.732603</td>\n",
       "      <td>1.295964</td>\n",
       "      <td>-0.682382</td>\n",
       "    </tr>\n",
       "  </tbody>\n",
       "</table>\n",
       "</div>"
      ],
      "text/plain": [
       "          0         1         2         3         4         5         6  \\\n",
       "0  0.010360 -0.445855 -0.039054 -0.011894 -0.961708 -0.269560 -0.359572   \n",
       "1  0.030767  1.739309 -1.367075 -1.445203 -0.545493  0.480607 -1.593410   \n",
       "2  0.234073  1.229533 -0.050871 -0.564845 -0.309647 -0.661617 -0.261005   \n",
       "3 -0.264789  1.352524  0.205276 -0.385189 -1.420020  1.804246  0.888054   \n",
       "4  0.528612 -0.726697 -0.222031  0.558192  0.124300  0.457474  0.547262   \n",
       "5  1.317066  0.914694 -1.548035 -1.146492 -1.995593 -0.057970 -1.246076   \n",
       "6 -0.549678  0.272697 -0.082740  0.038147  1.439210  1.162015 -0.272435   \n",
       "7  1.337115  2.182263 -0.145846  1.460897  1.762803  0.888545  1.269800   \n",
       "8  0.049958  0.083685  0.612148 -1.037812  0.410595  0.908015 -1.774176   \n",
       "9 -0.529073 -0.617786  0.455803  0.409826 -0.347271 -2.296287  0.235350   \n",
       "\n",
       "          7         8         9  \n",
       "0 -0.366955 -1.093077 -0.255624  \n",
       "1  0.946443  1.430818  0.312476  \n",
       "2 -0.081068  0.428189 -1.877531  \n",
       "3  1.063360 -0.260807  0.048861  \n",
       "4 -0.648232 -1.349972 -1.115342  \n",
       "5 -0.409632  0.756516 -0.890124  \n",
       "6  0.378418  0.597367  0.800917  \n",
       "7 -1.392150 -0.235298 -0.493574  \n",
       "8  1.174409  2.189594 -1.362229  \n",
       "9 -0.732603  1.295964 -0.682382  "
      ]
     },
     "execution_count": 13,
     "metadata": {},
     "output_type": "execute_result"
    }
   ],
   "source": [
    "pd.DataFrame(np.random.normal(size=(10,10)))"
   ]
  },
  {
   "cell_type": "markdown",
   "metadata": {},
   "source": [
    "### Checking Missing Data in DF"
   ]
  },
  {
   "cell_type": "code",
   "execution_count": 20,
   "metadata": {},
   "outputs": [],
   "source": [
    "# isnull test\n",
    "\n",
    "df = pd.DataFrame({'A':[1,2,3],'B':[0,1,1]})"
   ]
  },
  {
   "cell_type": "code",
   "execution_count": 29,
   "metadata": {},
   "outputs": [
    {
     "data": {
      "text/html": [
       "<div>\n",
       "<style>\n",
       "    .dataframe thead tr:only-child th {\n",
       "        text-align: right;\n",
       "    }\n",
       "\n",
       "    .dataframe thead th {\n",
       "        text-align: left;\n",
       "    }\n",
       "\n",
       "    .dataframe tbody tr th {\n",
       "        vertical-align: top;\n",
       "    }\n",
       "</style>\n",
       "<table border=\"1\" class=\"dataframe\">\n",
       "  <thead>\n",
       "    <tr style=\"text-align: right;\">\n",
       "      <th></th>\n",
       "      <th>A</th>\n",
       "      <th>B</th>\n",
       "    </tr>\n",
       "  </thead>\n",
       "  <tbody>\n",
       "    <tr>\n",
       "      <th>0</th>\n",
       "      <td>1</td>\n",
       "      <td>1</td>\n",
       "    </tr>\n",
       "    <tr>\n",
       "      <th>1</th>\n",
       "      <td>1</td>\n",
       "      <td>1</td>\n",
       "    </tr>\n",
       "    <tr>\n",
       "      <th>2</th>\n",
       "      <td>1</td>\n",
       "      <td>1</td>\n",
       "    </tr>\n",
       "  </tbody>\n",
       "</table>\n",
       "</div>"
      ],
      "text/plain": [
       "   A  B\n",
       "0  1  1\n",
       "1  1  1\n",
       "2  1  1"
      ]
     },
     "execution_count": 29,
     "metadata": {},
     "output_type": "execute_result"
    }
   ],
   "source": [
    "df.notnull() * 1 # if not null shows 1"
   ]
  },
  {
   "cell_type": "code",
   "execution_count": 31,
   "metadata": {},
   "outputs": [
    {
     "data": {
      "text/html": [
       "<div>\n",
       "<style>\n",
       "    .dataframe thead tr:only-child th {\n",
       "        text-align: right;\n",
       "    }\n",
       "\n",
       "    .dataframe thead th {\n",
       "        text-align: left;\n",
       "    }\n",
       "\n",
       "    .dataframe tbody tr th {\n",
       "        vertical-align: top;\n",
       "    }\n",
       "</style>\n",
       "<table border=\"1\" class=\"dataframe\">\n",
       "  <thead>\n",
       "    <tr style=\"text-align: right;\">\n",
       "      <th></th>\n",
       "      <th>A</th>\n",
       "      <th>B</th>\n",
       "    </tr>\n",
       "  </thead>\n",
       "  <tbody>\n",
       "    <tr>\n",
       "      <th>0</th>\n",
       "      <td>0</td>\n",
       "      <td>0</td>\n",
       "    </tr>\n",
       "    <tr>\n",
       "      <th>1</th>\n",
       "      <td>0</td>\n",
       "      <td>0</td>\n",
       "    </tr>\n",
       "    <tr>\n",
       "      <th>2</th>\n",
       "      <td>0</td>\n",
       "      <td>0</td>\n",
       "    </tr>\n",
       "  </tbody>\n",
       "</table>\n",
       "</div>"
      ],
      "text/plain": [
       "   A  B\n",
       "0  0  0\n",
       "1  0  0\n",
       "2  0  0"
      ]
     },
     "execution_count": 31,
     "metadata": {},
     "output_type": "execute_result"
    }
   ],
   "source": [
    "df.isnull() * 1 # if null shows 1"
   ]
  },
  {
   "cell_type": "code",
   "execution_count": 28,
   "metadata": {},
   "outputs": [
    {
     "data": {
      "text/plain": [
       "A    3\n",
       "B    3\n",
       "dtype: int64"
      ]
     },
     "execution_count": 28,
     "metadata": {},
     "output_type": "execute_result"
    }
   ],
   "source": [
    "df.isnull().count() # this counts ALL of the col regardless of null or not"
   ]
  },
  {
   "cell_type": "markdown",
   "metadata": {},
   "source": [
    "### pandas.get_dummies()"
   ]
  },
  {
   "cell_type": "code",
   "execution_count": 46,
   "metadata": {},
   "outputs": [],
   "source": [
    "df1 = pd.DataFrame({ 'one':['a','b','a'], 'two':['a','b','a'], 'three':[1,2,3] }, columns = ['one','two','three'])"
   ]
  },
  {
   "cell_type": "code",
   "execution_count": 47,
   "metadata": {},
   "outputs": [
    {
     "data": {
      "text/html": [
       "<div>\n",
       "<style>\n",
       "    .dataframe thead tr:only-child th {\n",
       "        text-align: right;\n",
       "    }\n",
       "\n",
       "    .dataframe thead th {\n",
       "        text-align: left;\n",
       "    }\n",
       "\n",
       "    .dataframe tbody tr th {\n",
       "        vertical-align: top;\n",
       "    }\n",
       "</style>\n",
       "<table border=\"1\" class=\"dataframe\">\n",
       "  <thead>\n",
       "    <tr style=\"text-align: right;\">\n",
       "      <th></th>\n",
       "      <th>one</th>\n",
       "      <th>two</th>\n",
       "      <th>three</th>\n",
       "    </tr>\n",
       "  </thead>\n",
       "  <tbody>\n",
       "    <tr>\n",
       "      <th>0</th>\n",
       "      <td>a</td>\n",
       "      <td>a</td>\n",
       "      <td>1</td>\n",
       "    </tr>\n",
       "    <tr>\n",
       "      <th>1</th>\n",
       "      <td>b</td>\n",
       "      <td>b</td>\n",
       "      <td>2</td>\n",
       "    </tr>\n",
       "    <tr>\n",
       "      <th>2</th>\n",
       "      <td>a</td>\n",
       "      <td>a</td>\n",
       "      <td>3</td>\n",
       "    </tr>\n",
       "  </tbody>\n",
       "</table>\n",
       "</div>"
      ],
      "text/plain": [
       "  one two  three\n",
       "0   a   a      1\n",
       "1   b   b      2\n",
       "2   a   a      3"
      ]
     },
     "execution_count": 47,
     "metadata": {},
     "output_type": "execute_result"
    }
   ],
   "source": [
    "df1"
   ]
  },
  {
   "cell_type": "code",
   "execution_count": 48,
   "metadata": {},
   "outputs": [
    {
     "data": {
      "text/html": [
       "<div>\n",
       "<style>\n",
       "    .dataframe thead tr:only-child th {\n",
       "        text-align: right;\n",
       "    }\n",
       "\n",
       "    .dataframe thead th {\n",
       "        text-align: left;\n",
       "    }\n",
       "\n",
       "    .dataframe tbody tr th {\n",
       "        vertical-align: top;\n",
       "    }\n",
       "</style>\n",
       "<table border=\"1\" class=\"dataframe\">\n",
       "  <thead>\n",
       "    <tr style=\"text-align: right;\">\n",
       "      <th></th>\n",
       "      <th>three</th>\n",
       "      <th>one_a</th>\n",
       "      <th>one_b</th>\n",
       "      <th>two_a</th>\n",
       "      <th>two_b</th>\n",
       "    </tr>\n",
       "  </thead>\n",
       "  <tbody>\n",
       "    <tr>\n",
       "      <th>0</th>\n",
       "      <td>1</td>\n",
       "      <td>1</td>\n",
       "      <td>0</td>\n",
       "      <td>1</td>\n",
       "      <td>0</td>\n",
       "    </tr>\n",
       "    <tr>\n",
       "      <th>1</th>\n",
       "      <td>2</td>\n",
       "      <td>0</td>\n",
       "      <td>1</td>\n",
       "      <td>0</td>\n",
       "      <td>1</td>\n",
       "    </tr>\n",
       "    <tr>\n",
       "      <th>2</th>\n",
       "      <td>3</td>\n",
       "      <td>1</td>\n",
       "      <td>0</td>\n",
       "      <td>1</td>\n",
       "      <td>0</td>\n",
       "    </tr>\n",
       "  </tbody>\n",
       "</table>\n",
       "</div>"
      ],
      "text/plain": [
       "   three  one_a  one_b  two_a  two_b\n",
       "0      1      1      0      1      0\n",
       "1      2      0      1      0      1\n",
       "2      3      1      0      1      0"
      ]
     },
     "execution_count": 48,
     "metadata": {},
     "output_type": "execute_result"
    }
   ],
   "source": [
    "pd.get_dummies(df1)"
   ]
  },
  {
   "cell_type": "markdown",
   "metadata": {},
   "source": [
    "### numpy.newaxis\n",
    "\n",
    "newaxis is also called as a pseudo-index that allows the temporary addition of an axis into a multiarray."
   ]
  },
  {
   "cell_type": "code",
   "execution_count": 14,
   "metadata": {},
   "outputs": [],
   "source": [
    "data1 = np.arange(10)\n",
    "data2 = np.arange(5)\n"
   ]
  },
  {
   "cell_type": "code",
   "execution_count": 11,
   "metadata": {},
   "outputs": [
    {
     "data": {
      "text/plain": [
       "(10,)"
      ]
     },
     "execution_count": 11,
     "metadata": {},
     "output_type": "execute_result"
    }
   ],
   "source": [
    "data1.shape # shape: 10x1"
   ]
  },
  {
   "cell_type": "code",
   "execution_count": 7,
   "metadata": {},
   "outputs": [
    {
     "data": {
      "text/plain": [
       "array([[0],\n",
       "       [1],\n",
       "       [2],\n",
       "       [3],\n",
       "       [4],\n",
       "       [5],\n",
       "       [6],\n",
       "       [7],\n",
       "       [8],\n",
       "       [9]])"
      ]
     },
     "execution_count": 7,
     "metadata": {},
     "output_type": "execute_result"
    }
   ],
   "source": [
    "data_new = data1[:, np.newaxis]\n",
    "data_new # shape 1x10"
   ]
  },
  {
   "cell_type": "code",
   "execution_count": 16,
   "metadata": {},
   "outputs": [
    {
     "data": {
      "text/plain": [
       "array([[ 0,  1,  2,  3,  4],\n",
       "       [ 1,  2,  3,  4,  5],\n",
       "       [ 2,  3,  4,  5,  6],\n",
       "       [ 3,  4,  5,  6,  7],\n",
       "       [ 4,  5,  6,  7,  8],\n",
       "       [ 5,  6,  7,  8,  9],\n",
       "       [ 6,  7,  8,  9, 10],\n",
       "       [ 7,  8,  9, 10, 11],\n",
       "       [ 8,  9, 10, 11, 12],\n",
       "       [ 9, 10, 11, 12, 13]])"
      ]
     },
     "execution_count": 16,
     "metadata": {},
     "output_type": "execute_result"
    }
   ],
   "source": [
    "data1[:,np.newaxis] + data2"
   ]
  },
  {
   "cell_type": "markdown",
   "metadata": {},
   "source": [
    "### sklearn StandardScaler()"
   ]
  },
  {
   "cell_type": "code",
   "execution_count": 45,
   "metadata": {},
   "outputs": [],
   "source": [
    "df1 = pd.DataFrame(np.random.rand(100,1))"
   ]
  },
  {
   "cell_type": "code",
   "execution_count": 46,
   "metadata": {},
   "outputs": [],
   "source": [
    "stand = StandardScaler().fit_transform(df1)"
   ]
  },
  {
   "cell_type": "code",
   "execution_count": null,
   "metadata": {},
   "outputs": [],
   "source": []
  },
  {
   "cell_type": "code",
   "execution_count": 47,
   "metadata": {},
   "outputs": [
    {
     "name": "stdout",
     "output_type": "stream",
     "text": [
      "df1 mean:  0    0.512165\n",
      "dtype: float64\n",
      "df1 standardisded mean:  -5.99520433298e-17\n"
     ]
    }
   ],
   "source": [
    "print( 'df1 mean: ', df1.mean() )\n",
    "print( 'df1 standardisded mean: ', stand.mean())"
   ]
  },
  {
   "cell_type": "code",
   "execution_count": 48,
   "metadata": {},
   "outputs": [
    {
     "name": "stdout",
     "output_type": "stream",
     "text": [
      "df1 var:  0    0.080482\n",
      "dtype: float64\n",
      "df1 standardisded var:  1.0\n"
     ]
    }
   ],
   "source": [
    "print( 'df1 var: ', df1.var() )\n",
    "\n",
    "print( 'df1 standardisded var: ', stand.var())"
   ]
  },
  {
   "cell_type": "code",
   "execution_count": 49,
   "metadata": {},
   "outputs": [
    {
     "data": {
      "text/plain": [
       "<matplotlib.axes._subplots.AxesSubplot at 0x11f9a09e8>"
      ]
     },
     "execution_count": 49,
     "metadata": {},
     "output_type": "execute_result"
    },
    {
     "data": {
      "image/png": "[encoded data removed]",
      "text/plain": [
       "<matplotlib.figure.Figure at 0x118168a20>"
      ]
     },
     "metadata": {},
     "output_type": "display_data"
    }
   ],
   "source": [
    "sns.distplot(df1)"
   ]
  },
  {
   "cell_type": "code",
   "execution_count": 50,
   "metadata": {},
   "outputs": [
    {
     "data": {
      "text/plain": [
       "<matplotlib.axes._subplots.AxesSubplot at 0x11fe290b8>"
      ]
     },
     "execution_count": 50,
     "metadata": {},
     "output_type": "execute_result"
    },
    {
     "data": {
      "image/png": "[encoded data removed]",
      "text/plain": [
       "<matplotlib.figure.Figure at 0x11ff20780>"
      ]
     },
     "metadata": {},
     "output_type": "display_data"
    }
   ],
   "source": [
    "sns.distplot(stand)"
   ]
  },
  {
   "cell_type": "code",
   "execution_count": null,
   "metadata": {},
   "outputs": [],
   "source": []
  }
 ],
 "metadata": {
  "kernelspec": {
   "display_name": "Python [Root]",
   "language": "python",
   "name": "Python [Root]"
  },
  "language_info": {
   "codemirror_mode": {
    "name": "ipython",
    "version": 3
   },
   "file_extension": ".py",
   "mimetype": "text/x-python",
   "name": "python",
   "nbconvert_exporter": "python",
   "pygments_lexer": "ipython3",
   "version": "3.5.1"
  }
 },
 "nbformat": 4,
 "nbformat_minor": 2
}
